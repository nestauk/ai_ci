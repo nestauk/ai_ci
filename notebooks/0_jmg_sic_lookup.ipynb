{
 "cells": [
  {
   "cell_type": "markdown",
   "metadata": {},
   "source": [
    "# 0. Our sic_4 - creative lookup\n",
    "\n",
    "Through the analysis we use a sic-sector lookup developed by clustering sic-4s based on their similarity. Here we look at the content of the lookup to enable interpretation later"
   ]
  },
  {
   "cell_type": "code",
   "execution_count": null,
   "metadata": {},
   "outputs": [],
   "source": [
    "%run notebook_preamble.ipy"
   ]
  },
  {
   "cell_type": "code",
   "execution_count": null,
   "metadata": {},
   "outputs": [],
   "source": []
  },
  {
   "cell_type": "code",
   "execution_count": null,
   "metadata": {},
   "outputs": [],
   "source": [
    "sic = pd.read_csv('../data/external/sector_lookup_sic4_nesta.csv')"
   ]
  },
  {
   "cell_type": "code",
   "execution_count": null,
   "metadata": {},
   "outputs": [],
   "source": [
    "#Creative names\n",
    "creative_sector_names = ['services_creative','services_content','services_cultural',\n",
    "                         'services_computing','services_entertainment', 'services_publishing','services_kibs']\n"
   ]
  },
  {
   "cell_type": "code",
   "execution_count": null,
   "metadata": {},
   "outputs": [],
   "source": [
    "creative_sic = sic.groupby('cluster')['descr'].apply(lambda x: '__'.join(x))[creative_sector_names]\n",
    "\n",
    "for c in creative_sic.index:\n",
    "    \n",
    "    print(c)\n",
    "    print(creative_sic[c])\n",
    "    \n",
    "    print('\\n')"
   ]
  },
  {
   "cell_type": "code",
   "execution_count": null,
   "metadata": {},
   "outputs": [],
   "source": []
  }
 ],
 "metadata": {
  "language_info": {
   "name": "python",
   "pygments_lexer": "ipython3"
  }
 },
 "nbformat": 4,
 "nbformat_minor": 2
}
