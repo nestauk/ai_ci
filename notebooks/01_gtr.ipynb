{
 "cells": [
  {
   "cell_type": "markdown",
   "metadata": {},
   "source": [
    "# Gateway to Research\n",
    "\n",
    "This notebook loads and shows the Gateway to Research data\n",
    "\n",
    "Check this [repo](https://github.com/nestauk/gtr_data_processing) for additional information about the GtR data."
   ]
  },
  {
   "cell_type": "markdown",
   "metadata": {},
   "source": [
    "# Preamble"
   ]
  },
  {
   "cell_type": "code",
   "execution_count": null,
   "metadata": {},
   "outputs": [],
   "source": [
    "%run notebook_preamble.ipy"
   ]
  },
  {
   "cell_type": "code",
   "execution_count": null,
   "metadata": {},
   "outputs": [],
   "source": [
    "# Functions etc here\n",
    "\n",
    "def flatten_list(a_list):\n",
    "    return([x for el in a_list for x in el])"
   ]
  },
  {
   "cell_type": "markdown",
   "metadata": {},
   "source": [
    "# Load data"
   ]
  },
  {
   "cell_type": "code",
   "execution_count": null,
   "metadata": {},
   "outputs": [],
   "source": [
    "my_path = '../../../ai_analysis/data/processed/19_7_2019_gtr_processed.csv'\n",
    "\n",
    "\n",
    "gtr = pd.read_csv(my_path,compression='zip',na_values='[]').iloc[:,1:]"
   ]
  },
  {
   "cell_type": "code",
   "execution_count": null,
   "metadata": {},
   "outputs": [],
   "source": [
    "from ast import literal_eval \n",
    "\n",
    "#Hacky way to find columns with lists-as-strings that we need to parse into lists\n",
    "is_list = [col for n,col in enumerate(gtr.columns) if '[' in str(gtr.iloc[0,n])]\n",
    "\n",
    "#Now we parse the lists. As part of this we need to replace nans in the list with some other value (literal_eval doesn't know how to parse missing values)\n",
    "for c in is_list:\n",
    "    \n",
    "    \n",
    "    gtr[c] = [literal_eval(re.sub(' nan ','missing',x)) if pd.isnull(x)==False else np.nan for x in gtr[c]]"
   ]
  },
  {
   "cell_type": "code",
   "execution_count": null,
   "metadata": {},
   "outputs": [],
   "source": [
    "gtr.shape"
   ]
  },
  {
   "cell_type": "code",
   "execution_count": null,
   "metadata": {},
   "outputs": [],
   "source": [
    "gtr.head()"
   ]
  },
  {
   "cell_type": "markdown",
   "metadata": {},
   "source": [
    "## Some features of the data"
   ]
  },
  {
   "cell_type": "markdown",
   "metadata": {},
   "source": [
    "#### a. The data only covers 2007 to 2018. We have more recent data but for now we are focusing on 'full years'"
   ]
  },
  {
   "cell_type": "code",
   "execution_count": null,
   "metadata": {},
   "outputs": [],
   "source": [
    "gtr.year.value_counts().loc[np.arange(2007,2018)]"
   ]
  },
  {
   "cell_type": "markdown",
   "metadata": {},
   "source": [
    "#### b. The data includes all research councils and Innovate UK"
   ]
  },
  {
   "cell_type": "code",
   "execution_count": null,
   "metadata": {},
   "outputs": [],
   "source": [
    "gtr.funder.value_counts()"
   ]
  },
  {
   "cell_type": "markdown",
   "metadata": {},
   "source": [
    "####  c. We have various types of grants but most are grants."
   ]
  },
  {
   "cell_type": "code",
   "execution_count": null,
   "metadata": {},
   "outputs": [],
   "source": [
    "gtr.grant_category.value_counts()"
   ]
  },
  {
   "cell_type": "markdown",
   "metadata": {},
   "source": [
    "#### d. The `out_` prefix refers to projects outputs. This comes from a merge of the GTR projects table with an outputs table\n",
    "\n",
    "* out_prod: products (mostly clinical etc.)\n",
    "* out_tech: technologies (mostly software)\n",
    "* out_spin: spinouts\n",
    "* pubs: papers (most popular)\n",
    "* db: databases\n",
    "\n",
    "Each of these categories has its own tables with metadata, and there are others (eg cultural products)"
   ]
  },
  {
   "cell_type": "code",
   "execution_count": null,
   "metadata": {},
   "outputs": [],
   "source": [
    "out = [x for x in gtr.columns if 'out_' in x]\n",
    "\n",
    "gtr[out].sum()"
   ]
  },
  {
   "cell_type": "markdown",
   "metadata": {},
   "source": [
    "#### e. Research topics and activities are user generated labels. We have used them to create a labelled dataset to classify projects into disciplines.\n",
    "\n",
    "`disc_*` give the probabilities and the names are self explanatory (env is environmental)\n",
    "\n",
    "`sel_disc` is the top discipline for a project"
   ]
  },
  {
   "cell_type": "code",
   "execution_count": null,
   "metadata": {},
   "outputs": [],
   "source": [
    "gtr['sel_disc'].value_counts()"
   ]
  },
  {
   "cell_type": "markdown",
   "metadata": {},
   "source": [
    "#### f. `ind_*` does as above but for industries based on an ML analysis with a labelled industry dataset\n",
    "\n",
    "`sel_industry` has the top industry for each source\n",
    "\n",
    "**WARNING** These predictions are experimental"
   ]
  },
  {
   "cell_type": "markdown",
   "metadata": {},
   "source": [
    "`computing`, `creative`, `content`, `cultural`, `entertainment` and `publishing` capture the creative industries SIC codes"
   ]
  },
  {
   "cell_type": "code",
   "execution_count": null,
   "metadata": {},
   "outputs": [],
   "source": [
    "gtr['sel_industry'].value_counts()"
   ]
  },
  {
   "cell_type": "markdown",
   "metadata": {},
   "source": [
    "#### g. `sdg_*` does as above but for SDGs\n",
    "\n",
    "**WARNING** The predictions for SDGs are very noisy. This model needs to be significantly improved before being used for analysis\n"
   ]
  },
  {
   "cell_type": "markdown",
   "metadata": {},
   "source": [
    "#### h. ORG contains ids for organisations participating in projects. Not that useful unless matched with the relevant GtR table"
   ]
  },
  {
   "cell_type": "markdown",
   "metadata": {},
   "source": [
    "#### i. The `*_lad_code` and `*_lad_name` variables contain local authority district codes and names for organisations participating in projects\n",
    "\n",
    "lead = lead organisation (there is only one per project, they are generally academic institutions)\n",
    "\n",
    "all = all organisations\n",
    "\n",
    "involved = all organisations involved except the lead one\n"
   ]
  },
  {
   "cell_type": "markdown",
   "metadata": {},
   "source": [
    "#### j. The `scot` variables contain geo information which is relevant for the Scotland project"
   ]
  },
  {
   "cell_type": "markdown",
   "metadata": {},
   "source": [
    "#### k. (finally!) AI and AI mod are the AI booleans.\n",
    "\n",
    "AI is based on an analysis that only considered research grants and therefore did not consider Innovate UK. \n",
    "\n",
    "AI mod considers all projects - I suggest using the latter "
   ]
  },
  {
   "cell_type": "code",
   "execution_count": null,
   "metadata": {},
   "outputs": [],
   "source": [
    "#What is the distribution of AI over disciplines?\n",
    "\n",
    "pd.crosstab(gtr['sel_disc'],gtr['ai_mod'],normalize=1).plot.bar()"
   ]
  },
  {
   "cell_type": "code",
   "execution_count": null,
   "metadata": {},
   "outputs": [],
   "source": [
    "#What is the distribution of AI over industries?\n",
    "\n",
    "pd.crosstab(gtr['sel_industry'],gtr['ai_mod'],normalize=1).sort_values(True).plot.barh(figsize=(5,8))"
   ]
  },
  {
   "cell_type": "markdown",
   "metadata": {},
   "source": [
    "#### l. `companyname` and cluster is from the organisation - company house matches.\n",
    "\n",
    "The `clusters` are the same sector categories we used in the industry ML analysis that I mentioned above"
   ]
  },
  {
   "cell_type": "code",
   "execution_count": null,
   "metadata": {},
   "outputs": [],
   "source": [
    "pd.Series(flatten_list(gtr['companyname'].dropna())).value_counts()[:20]"
   ]
  },
  {
   "cell_type": "markdown",
   "metadata": {},
   "source": [
    "Note that this is our first analysis using this matched dataset so we are very likely to find errors. In particular, the university-related matches above are probably not that useful as the names have been matched with the Companies House presence of universities, which as we see are Technology Transfer Offices and so forth. "
   ]
  },
  {
   "cell_type": "code",
   "execution_count": null,
   "metadata": {},
   "outputs": [],
   "source": [
    "pd.Series(flatten_list(gtr['cluster'].dropna())).value_counts()[:35]"
   ]
  },
  {
   "cell_type": "markdown",
   "metadata": {},
   "source": [
    "A look at the sectors conform this - we see some presence of various creative sic codes"
   ]
  },
  {
   "cell_type": "markdown",
   "metadata": {},
   "source": [
    "### And to conclude, some statistics about creative activity related to AI"
   ]
  },
  {
   "cell_type": "code",
   "execution_count": null,
   "metadata": {},
   "outputs": [],
   "source": [
    "creative_sector_names = ['creative','content','_cultural','computing','entertainment', 'publishing']\n",
    "\n",
    "\n",
    "#Focusing on semantic analysis\n",
    "gtr['creative_flag_semantic'] = [any(val in x for val in creative_sector_names) if \n",
    "                        pd.isnull(x) == False else np.nan for x in gtr['sel_industry']]\n",
    "\n",
    "\n",
    "pd.crosstab(gtr['creative_flag'],gtr['ai_mod'])"
   ]
  },
  {
   "cell_type": "markdown",
   "metadata": {},
   "source": [
    "Half of the organisations involved in AI are creative - but then you knew that ;-)"
   ]
  },
  {
   "cell_type": "code",
   "execution_count": null,
   "metadata": {},
   "outputs": [],
   "source": [
    "#Focusing on organisations\n",
    "\n",
    "ai_org_counts = pd.Series(flatten_list(gtr.loc[gtr['ai_mod']==True]['cluster'].dropna())).value_counts()\n",
    "\n",
    "ai_org_counts.loc[[x for x in ai_org_counts.index if any(val in x for val in creative_sector_names)]]\n"
   ]
  },
  {
   "cell_type": "code",
   "execution_count": null,
   "metadata": {},
   "outputs": [],
   "source": []
  }
 ],
 "metadata": {
  "language_info": {
   "name": "python",
   "pygments_lexer": "ipython3"
  }
 },
 "nbformat": 4,
 "nbformat_minor": 2
}
