{
 "cells": [
  {
   "cell_type": "markdown",
   "metadata": {},
   "source": [
    "# Patents\n",
    "\n",
    "This is patent data with UK inventors and applicants from PATSTAT\n",
    "\n",
    "**Warning** \n",
    "\n",
    "This data hasn't been explored yet so it is likely to contain bugs and issues. It is also unlikely to contain a lot of creative industries activity so we need to decide how to use it.\n",
    "\n",
    "Check the `references` folder for some data dictionaries and metadata\n",
    "\n",
    "This [repo](https://github.com/nestauk/patent_analysis) contains detailed information about data processing and relevant documentation including data dictionaries etc."
   ]
  },
  {
   "cell_type": "markdown",
   "metadata": {},
   "source": [
    "## Notebook preamble"
   ]
  },
  {
   "cell_type": "code",
   "execution_count": null,
   "metadata": {},
   "outputs": [],
   "source": [
    "%run notebook_preamble.ipy"
   ]
  },
  {
   "cell_type": "markdown",
   "metadata": {},
   "source": [
    "## Load data"
   ]
  },
  {
   "cell_type": "code",
   "execution_count": null,
   "metadata": {},
   "outputs": [],
   "source": [
    "your_path = '/Users/jmateosgarcia/Desktop/patents/patents/data/processed/9_7_2019_patent_table.csv'\n",
    "\n",
    "pats = pd.read_csv(your_path,compression='gzip')\n"
   ]
  },
  {
   "cell_type": "code",
   "execution_count": null,
   "metadata": {},
   "outputs": [],
   "source": [
    "pats.head()"
   ]
  }
 ],
 "metadata": {
  "language_info": {
   "name": "python",
   "pygments_lexer": "ipython3"
  }
 },
 "nbformat": 4,
 "nbformat_minor": 2
}
