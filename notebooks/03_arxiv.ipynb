{
 "cells": [
  {
   "cell_type": "markdown",
   "metadata": {},
   "source": [
    "# ArXiv\n",
    "\n",
    "This notebook introduces the arXiv dataset for analysis in the AI / CI project.\n",
    "\n",
    "The provenance of this data is as follows:\n",
    "\n",
    "1. Collect all papers from arXiv\n",
    "2. Match them with Microsoft Academic Graph (a publication database) on titles to get institutions\n",
    "3. Match institutitions with GRID (a research institution database) to get locations\n",
    "4. Identify AI papers through a semantic analysis"
   ]
  },
  {
   "cell_type": "markdown",
   "metadata": {},
   "source": [
    "## Preamble"
   ]
  },
  {
   "cell_type": "code",
   "execution_count": null,
   "metadata": {},
   "outputs": [],
   "source": [
    "%run notebook_preamble.ipy"
   ]
  },
  {
   "cell_type": "code",
   "execution_count": null,
   "metadata": {},
   "outputs": [],
   "source": [
    "# Functions etc here"
   ]
  },
  {
   "cell_type": "markdown",
   "metadata": {},
   "source": [
    "## 1. Download data\n",
    "\n",
    "As with CrunchBase, you can access the data with one of the data getters."
   ]
  },
  {
   "cell_type": "code",
   "execution_count": null,
   "metadata": {},
   "outputs": [],
   "source": [
    "from data_getters.arxiv_grid import get_arxiv_grid\n",
    "\n",
    "my_config_path = '../mysqldb_team.config'\n",
    "\n",
    "df = get_arxiv_grid(my_config_path)"
   ]
  },
  {
   "cell_type": "code",
   "execution_count": null,
   "metadata": {},
   "outputs": [],
   "source": [
    "df.head()"
   ]
  },
  {
   "cell_type": "code",
   "execution_count": null,
   "metadata": {},
   "outputs": [],
   "source": [
    "df.shape"
   ]
  },
  {
   "cell_type": "markdown",
   "metadata": {},
   "source": [
    "375K institution - paper pairs"
   ]
  },
  {
   "cell_type": "code",
   "execution_count": null,
   "metadata": {},
   "outputs": [],
   "source": [
    "#Unique papers?\n",
    "len(set(df['article_id']))"
   ]
  },
  {
   "cell_type": "markdown",
   "metadata": {},
   "source": [
    "We have only included papers in computer science and statistics/machine learning because most of the other fields in arXiv (Physics, Biology etc.) are unlikely to be relevant for the CIs"
   ]
  },
  {
   "cell_type": "code",
   "execution_count": null,
   "metadata": {},
   "outputs": [],
   "source": [
    "#These are the ids for AI papers based on Kostas' analysis for the Women in AI report\n",
    "\n",
    "#I will send you the file separately\n",
    "ai_path = '../../../ai_analysis/data/external/dl_paper_ids.csv'\n",
    "\n",
    "ml_ids = pd.read_csv(ai_path,dtype={'paper_id':str})\n",
    "\n",
    "ml_ids_set = set(list(ml_ids.loc[ml_ids['is_AI']==True,'paper_id']))"
   ]
  },
  {
   "cell_type": "code",
   "execution_count": null,
   "metadata": {},
   "outputs": [],
   "source": [
    "df['ai'] = [x in ml_ids_set for x in df['article_id']]\n",
    "\n",
    "df.drop_duplicates('article_id')['ai'].sum()"
   ]
  },
  {
   "cell_type": "markdown",
   "metadata": {},
   "source": [
    "60K AI papers"
   ]
  },
  {
   "cell_type": "markdown",
   "metadata": {},
   "source": [
    "## 2 Tour of the data\n",
    "\n",
    "Most of the information in the data is quite self explanatory. \n",
    "\n",
    "Some observations\n",
    "\n"
   ]
  },
  {
   "cell_type": "markdown",
   "metadata": {},
   "source": [
    "### ArXiv categories\n",
    "\n",
    "Taxonomy [here](http://arxitics.com/help/categories?group=cs).\n",
    "\n"
   ]
  },
  {
   "cell_type": "code",
   "execution_count": null,
   "metadata": {},
   "outputs": [],
   "source": [
    "df['arxiv_categories'] = [x.split(' ') for x in df['arxiv_categories']]"
   ]
  },
  {
   "cell_type": "code",
   "execution_count": null,
   "metadata": {},
   "outputs": [],
   "source": [
    "df['arxiv_categories'].head(n=10)"
   ]
  },
  {
   "cell_type": "markdown",
   "metadata": {},
   "source": [
    "Sometimes there is more than one category per paper"
   ]
  },
  {
   "cell_type": "markdown",
   "metadata": {},
   "source": [
    "### Multinational\n",
    "\n",
    "Institutions with presence of multiple countries (multinationals) gert matched with all of them, which isn't great. \n",
    "\n",
    "This is not a problem when analysing the global picture (eg papers in general) as we can group by paper id and remove duplicates in the names of participant organisations. When we do the geographical analysis we should drop any is_multinational matches."
   ]
  },
  {
   "cell_type": "code",
   "execution_count": null,
   "metadata": {},
   "outputs": [],
   "source": [
    "df.loc[df['is_multinational']==True].head()"
   ]
  }
 ],
 "metadata": {
  "language_info": {
   "name": "python",
   "pygments_lexer": "ipython3"
  }
 },
 "nbformat": 4,
 "nbformat_minor": 2
}
